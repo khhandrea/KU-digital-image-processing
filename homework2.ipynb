{
 "cells": [
  {
   "cell_type": "code",
   "execution_count": 8,
   "metadata": {},
   "outputs": [],
   "source": [
    "import diplib\n",
    "from IPython.display import Video"
   ]
  },
  {
   "cell_type": "code",
   "execution_count": 9,
   "metadata": {},
   "outputs": [
    {
     "data": {
      "text/html": [
       "<video src=\"./homework2/test.mp4\" controls  >\n",
       "      Your browser does not support the <code>video</code> element.\n",
       "    </video>"
      ],
      "text/plain": [
       "<IPython.core.display.Video object>"
      ]
     },
     "execution_count": 9,
     "metadata": {},
     "output_type": "execute_result"
    }
   ],
   "source": [
    "src = './homework2/hand1.mov'\n",
    "dest = './homework2/test.mp4'\n",
    "\n",
    "frames = diplib.get_video_frames(src)\n",
    "for idx, frame in enumerate(frames):\n",
    "    frames[idx] = ~frame\n",
    "\n",
    "diplib.export_video(dest, frames)\n",
    "Video(dest)"
   ]
  },
  {
   "cell_type": "code",
   "execution_count": 7,
   "metadata": {},
   "outputs": [
    {
     "data": {
      "text/html": [
       "<video src=\"./homework2/test.mp4\" controls  >\n",
       "      Your browser does not support the <code>video</code> element.\n",
       "    </video>"
      ],
      "text/plain": [
       "<IPython.core.display.Video object>"
      ]
     },
     "execution_count": 7,
     "metadata": {},
     "output_type": "execute_result"
    }
   ],
   "source": [
    "# src = './homework2/hand2.mp4'\n",
    "# dest = './homework2/test.mp4'\n",
    "\n",
    "# frames = diplib.get_video_frames(src)\n",
    "# frames = diplib.hand_detection(frames)\n",
    "\n",
    "# diplib.export_video(dest, frames)\n",
    "Video(dest)"
   ]
  }
 ],
 "metadata": {
  "kernelspec": {
   "display_name": "2023_DIP-67pl9bQB",
   "language": "python",
   "name": "python3"
  },
  "language_info": {
   "codemirror_mode": {
    "name": "ipython",
    "version": 3
   },
   "file_extension": ".py",
   "mimetype": "text/x-python",
   "name": "python",
   "nbconvert_exporter": "python",
   "pygments_lexer": "ipython3",
   "version": "3.9.17"
  },
  "orig_nbformat": 4
 },
 "nbformat": 4,
 "nbformat_minor": 2
}
