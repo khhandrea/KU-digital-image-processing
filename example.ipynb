{
 "cells": [
  {
   "cell_type": "code",
   "execution_count": 1,
   "metadata": {},
   "outputs": [],
   "source": [
    "import diplib\n",
    "from IPython.display import Video"
   ]
  },
  {
   "cell_type": "code",
   "execution_count": 4,
   "metadata": {},
   "outputs": [
    {
     "name": "stdout",
     "output_type": "stream",
     "text": [
      "100.00% (  87/  87) frames processing...\r"
     ]
    },
    {
     "data": {
      "text/html": [
       "<video src=\"./results/hand1-mid.mp4\" controls  >\n",
       "      Your browser does not support the <code>video</code> element.\n",
       "    </video>"
      ],
      "text/plain": [
       "<IPython.core.display.Video object>"
      ]
     },
     "execution_count": 4,
     "metadata": {},
     "output_type": "execute_result"
    }
   ],
   "source": [
    "src = './homework2/hand1.mov'\n",
    "dest = './results/hand1-mid.mp4'\n",
    "\n",
    "frames = diplib.get_video_frames(src)\n",
    "##### frames = diplib.hand_detection(frames) ######\n",
    "hsv_frames = diplib.frames_rgb_to_hsv(frames)\n",
    "back_deleted_frames = diplib.delete_background(hsv_frames[:,:,:,2].copy())\n",
    "hsv_frames[:,:,:,2] = diplib.thresholding(back_deleted_frames, 100, 240)\n",
    "hsv_frames = diplib.frames_hsv_to_rgb(hsv_frames)\n",
    "connected_frames = diplib.connect_components(hsv_frames, frames, 3000)\n",
    "\n",
    "diplib.export_video(dest, connected_frames)\n",
    "Video(dest)"
   ]
  },
  {
   "cell_type": "code",
   "execution_count": 3,
   "metadata": {},
   "outputs": [
    {
     "name": "stdout",
     "output_type": "stream",
     "text": [
      "99.81%% ( 512/ 513) frames processing..."
     ]
    },
    {
     "data": {
      "text/html": [
       "<video src=\"./results/hand2.mp4\" controls  >\n",
       "      Your browser does not support the <code>video</code> element.\n",
       "    </video>"
      ],
      "text/plain": [
       "<IPython.core.display.Video object>"
      ]
     },
     "execution_count": 3,
     "metadata": {},
     "output_type": "execute_result"
    }
   ],
   "source": [
    "src = './homework2/hand2.mp4'\n",
    "dest = './results/hand2.mp4'\n",
    "\n",
    "frames = diplib.get_video_frames(src)\n",
    "frames = diplib.hand_detection(frames)\n",
    "\n",
    "diplib.export_video(dest, frames)\n",
    "Video(dest)"
   ]
  },
  {
   "cell_type": "code",
   "execution_count": 4,
   "metadata": {},
   "outputs": [
    {
     "name": "stdout",
     "output_type": "stream",
     "text": [
      "99.95%% (1860/1861) frames processing..."
     ]
    },
    {
     "data": {
      "text/html": [
       "<video src=\"./results/driveway1.mp4\" controls  >\n",
       "      Your browser does not support the <code>video</code> element.\n",
       "    </video>"
      ],
      "text/plain": [
       "<IPython.core.display.Video object>"
      ]
     },
     "execution_count": 4,
     "metadata": {},
     "output_type": "execute_result"
    }
   ],
   "source": [
    "src = './homework2/driveway1.mp4'\n",
    "dest = './results/driveway1.mp4'\n",
    "\n",
    "frames = diplib.get_video_frames(src)\n",
    "frames = diplib.vehicle_detection(frames)\n",
    "\n",
    "diplib.export_video(dest, frames)\n",
    "Video(dest)"
   ]
  },
  {
   "cell_type": "code",
   "execution_count": 5,
   "metadata": {},
   "outputs": [
    {
     "name": "stdout",
     "output_type": "stream",
     "text": [
      "99.95%% (2029/2030) frames processing..."
     ]
    },
    {
     "data": {
      "text/html": [
       "<video src=\"./results/driveway2.mp4\" controls  >\n",
       "      Your browser does not support the <code>video</code> element.\n",
       "    </video>"
      ],
      "text/plain": [
       "<IPython.core.display.Video object>"
      ]
     },
     "execution_count": 5,
     "metadata": {},
     "output_type": "execute_result"
    }
   ],
   "source": [
    "src = './homework2/driveway2.mp4'\n",
    "dest = './results/driveway2.mp4'\n",
    "\n",
    "frames = diplib.get_video_frames(src)\n",
    "frames = diplib.vehicle_detection(frames)\n",
    "\n",
    "diplib.export_video(dest, frames)\n",
    "Video(dest)"
   ]
  }
 ],
 "metadata": {
  "kernelspec": {
   "display_name": "2023_DIP-67pl9bQB",
   "language": "python",
   "name": "python3"
  },
  "language_info": {
   "codemirror_mode": {
    "name": "ipython",
    "version": 3
   },
   "file_extension": ".py",
   "mimetype": "text/x-python",
   "name": "python",
   "nbconvert_exporter": "python",
   "pygments_lexer": "ipython3",
   "version": "3.9.17"
  },
  "orig_nbformat": 4
 },
 "nbformat": 4,
 "nbformat_minor": 2
}
